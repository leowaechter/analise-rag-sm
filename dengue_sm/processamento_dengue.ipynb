{
 "cells": [
  {
   "cell_type": "code",
   "execution_count": 8,
   "id": "c7f09aef",
   "metadata": {},
   "outputs": [],
   "source": [
    "import pandas as pd\n",
    "import pdfplumber\n",
    "\n",
    "pdf_path = \"../pdfs/relatorio-anual-de-gestao-2024-rag.pdf\"\n",
    "lista_de_dataframes = []\n",
    "\n",
    "with pdfplumber.open(pdf_path) as pdf:\n",
    "    for i in range(242, 245):\n",
    "        pagina = pdf.pages[i]\n",
    "        tabela = pagina.extract_table()\n",
    "        if tabela:\n",
    "            lista_de_dataframes.append(pd.DataFrame(tabela))\n",
    "\n",
    "data = pd.concat(lista_de_dataframes, ignore_index=True)\n",
    "# 1. Define a primeira linha como o novo cabeçalho\n",
    "data.columns = data.iloc[0]\n",
    "\n",
    "# 2. Remove a primeira linha (que agora é o cabeçalho duplicado)\n",
    "data = data.drop(data.index[0])\n",
    "\n",
    "data.to_csv(\"../pdfs/dados_dengue\")"
   ]
  },
  {
   "cell_type": "code",
   "execution_count": null,
   "id": "2beacffe",
   "metadata": {},
   "outputs": [],
   "source": []
  }
 ],
 "metadata": {
  "kernelspec": {
   "display_name": "dashboard_env",
   "language": "python",
   "name": "python3"
  },
  "language_info": {
   "codemirror_mode": {
    "name": "ipython",
    "version": 3
   },
   "file_extension": ".py",
   "mimetype": "text/x-python",
   "name": "python",
   "nbconvert_exporter": "python",
   "pygments_lexer": "ipython3",
   "version": "3.10.18"
  }
 },
 "nbformat": 4,
 "nbformat_minor": 5
}
